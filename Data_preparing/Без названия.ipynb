{
 "cells": [
  {
   "cell_type": "code",
   "execution_count": 26,
   "id": "d3486fd4-5ee2-47c7-9bea-2906cdb4ad61",
   "metadata": {},
   "outputs": [
    {
     "name": "stdout",
     "output_type": "stream",
     "text": [
      "Ценности состояний:\n",
      "s1: 0.0\n",
      "s2: 0.0\n",
      "s3: 0.0\n",
      "s4: 0.0\n"
     ]
    }
   ],
   "source": [
    "import numpy as np\n",
    "\n",
    "actions_probabilities = {\n",
    "    's1': {'a1': 0.1, 'a2': 0.9},\n",
    "    's2': {'a2': 1.0},\n",
    "    's3': {'a1': 0.1, 'a3': 0.9},\n",
    "    's4': {'a1': 0.5, 'a3': 0.5}\n",
    "}\n",
    "\n",
    "transitions_probabilities = {\n",
    "    's1': {'a1': {'s2': 0.4, 's3': 0.6}, 'a2': {'s3': 1.0}},\n",
    "    's2': {'a2': {'s1': 1.0}},\n",
    "    's3': {'a1': {'s1': 1.0}, 'a3': {'s3': 0.2, 's4': 0.8}},\n",
    "    's4': {'a1': {'s1': 4.0, 's2': 0.4}, 'a3': {'s3': 1.0}}\n",
    "}\n",
    "\n",
    "rewards_expectations = {\n",
    "    's1': {'a1': {'s2': 2.0, 's3': 3.0}, 'a2': {'s3': 1.0}},\n",
    "    's2': {'a2': {'s1': 3.0}},\n",
    "    's3': {'a1': {'s1': -3.0}, 'a3': {'s3': 1.0, 's4': 6.0}},\n",
    "    's4': {'a1': {'s1': 5.0, 's2': -4.0}, 'a3': {'s3': -3.0}}\n",
    "}\n",
    "\n",
    "gamma = 0.8\n",
    "\n",
    "values = {state: 0 for state in actions_probabilities}\n",
    "\n",
    "# Итерационный метод для решения уравнений Беллмана\n",
    "for _ in range(100): \n",
    "    new_values = values.copy()\n",
    "    for state in actions_probabilities:\n",
    "        max_value = float('-inf')\n",
    "        for action, action_prob in actions_probabilities[state].items():\n",
    "            reward_value = sum(\n",
    "                rewards_expectations[state][action].get(next_state, 0) *\n",
    "                transitions_probabilities[state][action].get(next_state, 0) *\n",
    "                values.get(next_state, 0)\n",
    "                for next_state in actions_probabilities\n",
    "            )\n",
    "            value = action_prob * (reward_value + gamma * sum(\n",
    "                transitions_probabilities[state][action].get(next_state, 0) * values.get(next_state, 0)\n",
    "                for next_state in actions_probabilities\n",
    "            ))\n",
    "            max_value = max(max_value, value)\n",
    "        new_values[state] = max_value\n",
    "    values = new_values\n",
    "\n",
    "print(\"Ценности состояний:\")\n",
    "for state, value in values.items():\n",
    "    print(f\"{state}: {value}\")"
   ]
  },
  {
   "cell_type": "code",
   "execution_count": null,
   "id": "85dc4551-6b9a-45ed-a19a-fb19e47716b9",
   "metadata": {},
   "outputs": [],
   "source": []
  }
 ],
 "metadata": {
  "kernelspec": {
   "display_name": "Python 3 (ipykernel)",
   "language": "python",
   "name": "python3"
  },
  "language_info": {
   "codemirror_mode": {
    "name": "ipython",
    "version": 3
   },
   "file_extension": ".py",
   "mimetype": "text/x-python",
   "name": "python",
   "nbconvert_exporter": "python",
   "pygments_lexer": "ipython3",
   "version": "3.11.4"
  }
 },
 "nbformat": 4,
 "nbformat_minor": 5
}
