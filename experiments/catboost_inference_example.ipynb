{
  "nbformat": 4,
  "nbformat_minor": 0,
  "metadata": {
    "colab": {
      "provenance": [],
      "mount_file_id": "1ICQW9-_lGk-F6ukawvHdgtGqs1bIVN4K",
      "authorship_tag": "ABX9TyOcw/Bb7jRSfDPFW65jOYUA"
    },
    "kernelspec": {
      "name": "python3",
      "display_name": "Python 3"
    },
    "language_info": {
      "name": "python"
    }
  },
  "cells": [
    {
      "cell_type": "code",
      "execution_count": 1,
      "metadata": {
        "colab": {
          "base_uri": "https://localhost:8080/"
        },
        "id": "kj9wzlXy2j3k",
        "outputId": "dbcd6cdb-d416-47aa-d921-d8be93b8e60e"
      },
      "outputs": [
        {
          "output_type": "stream",
          "name": "stdout",
          "text": [
            "\u001b[2K     \u001b[90m━━━━━━━━━━━━━━━━━━━━━━━━━━━━━━━━━━━━━━━━\u001b[0m \u001b[32m98.7/98.7 MB\u001b[0m \u001b[31m9.7 MB/s\u001b[0m eta \u001b[36m0:00:00\u001b[0m\n",
            "\u001b[?25h"
          ]
        }
      ],
      "source": [
        "!pip install -q catboost"
      ]
    },
    {
      "cell_type": "code",
      "source": [
        "import pandas as pd\n",
        "import numpy as np\n",
        "\n",
        "from sklearn.preprocessing import MinMaxScaler\n",
        "from sklearn.model_selection import train_test_split\n",
        "from sklearn.metrics import mean_absolute_error\n",
        "\n",
        "from catboost import Pool\n",
        "from catboost import CatBoostRegressor\n",
        "\n",
        "import pickle"
      ],
      "metadata": {
        "id": "NAL3IJlk2qPb"
      },
      "execution_count": 3,
      "outputs": []
    },
    {
      "cell_type": "code",
      "source": [
        "DATA_PATH = \"/content/drive/MyDrive/itmo/data_nlp/matching_results.csv\"\n",
        "df = pd.read_csv(DATA_PATH)\n",
        "\n",
        "df_test_example = df.drop([\"Matching_Skills\"], axis=1).iloc[[3]].copy()\n",
        "df_test_example.head()"
      ],
      "metadata": {
        "colab": {
          "base_uri": "https://localhost:8080/",
          "height": 234
        },
        "id": "SfLyG-Sm2qRb",
        "outputId": "cacefb61-1ee3-4d64-ab36-cf40f737ebbc"
      },
      "execution_count": 16,
      "outputs": [
        {
          "output_type": "execute_result",
          "data": {
            "text/plain": [
              "                  Vacancy     Employer  Vac_salary Vac_salary_from  \\\n",
              "3  Ведущий SMM специалист  Импорт Хоум        True         60000.0   \n",
              "\n",
              "  Vac_salary_to             Vac_exp Vac_schedule  \\\n",
              "3       80000.0  От 1 года до 3 лет  Полный день   \n",
              "\n",
              "                                     Vac_description  \\\n",
              "3  В данный момент мы ищем в нашу команду самого ...   \n",
              "\n",
              "                         Vac_prof_roles  \\\n",
              "3  ['SMM-менеджер', 'контент-менеджер']   \n",
              "\n",
              "                                 Vac_specializations  ...  \\\n",
              "3  ['Управление маркетингом', \"'PR\", 'Маркетингов...  ...   \n",
              "\n",
              "                                             CV_keys  \\\n",
              "3  ['Web-дизайн', \"'Полиграфический дизайн\", \"'We...   \n",
              "\n",
              "                                          CV_name  \\\n",
              "3  Web-designer (Веб-дизайнер UI/UX) в веб-студию   \n",
              "\n",
              "                                  CV_specializations  \\\n",
              "3  'Начальный уровень, Мало опыта', 'Арт-директор...   \n",
              "\n",
              "                                     CV_profar_names     CV_exp  CV_schedule  \\\n",
              "3  'Искусство, развлечения, масс-медиа', 'Маркети...  Нет опыта  Полный день   \n",
              "\n",
              "      CV_employment CV_area_name CV_salary_from CV_salary_to  \n",
              "3  Полная занятость       Москва        55000.0      80000.0  \n",
              "\n",
              "[1 rows x 22 columns]"
            ],
            "text/html": [
              "\n",
              "  <div id=\"df-e2e831b1-63ee-4ced-91c1-9987768b0c13\" class=\"colab-df-container\">\n",
              "    <div>\n",
              "<style scoped>\n",
              "    .dataframe tbody tr th:only-of-type {\n",
              "        vertical-align: middle;\n",
              "    }\n",
              "\n",
              "    .dataframe tbody tr th {\n",
              "        vertical-align: top;\n",
              "    }\n",
              "\n",
              "    .dataframe thead th {\n",
              "        text-align: right;\n",
              "    }\n",
              "</style>\n",
              "<table border=\"1\" class=\"dataframe\">\n",
              "  <thead>\n",
              "    <tr style=\"text-align: right;\">\n",
              "      <th></th>\n",
              "      <th>Vacancy</th>\n",
              "      <th>Employer</th>\n",
              "      <th>Vac_salary</th>\n",
              "      <th>Vac_salary_from</th>\n",
              "      <th>Vac_salary_to</th>\n",
              "      <th>Vac_exp</th>\n",
              "      <th>Vac_schedule</th>\n",
              "      <th>Vac_description</th>\n",
              "      <th>Vac_prof_roles</th>\n",
              "      <th>Vac_specializations</th>\n",
              "      <th>...</th>\n",
              "      <th>CV_keys</th>\n",
              "      <th>CV_name</th>\n",
              "      <th>CV_specializations</th>\n",
              "      <th>CV_profar_names</th>\n",
              "      <th>CV_exp</th>\n",
              "      <th>CV_schedule</th>\n",
              "      <th>CV_employment</th>\n",
              "      <th>CV_area_name</th>\n",
              "      <th>CV_salary_from</th>\n",
              "      <th>CV_salary_to</th>\n",
              "    </tr>\n",
              "  </thead>\n",
              "  <tbody>\n",
              "    <tr>\n",
              "      <th>3</th>\n",
              "      <td>Ведущий SMM специалист</td>\n",
              "      <td>Импорт Хоум</td>\n",
              "      <td>True</td>\n",
              "      <td>60000.0</td>\n",
              "      <td>80000.0</td>\n",
              "      <td>От 1 года до 3 лет</td>\n",
              "      <td>Полный день</td>\n",
              "      <td>В данный момент мы ищем в нашу команду самого ...</td>\n",
              "      <td>['SMM-менеджер', 'контент-менеджер']</td>\n",
              "      <td>['Управление маркетингом', \"'PR\", 'Маркетингов...</td>\n",
              "      <td>...</td>\n",
              "      <td>['Web-дизайн', \"'Полиграфический дизайн\", \"'We...</td>\n",
              "      <td>Web-designer (Веб-дизайнер UI/UX) в веб-студию</td>\n",
              "      <td>'Начальный уровень, Мало опыта', 'Арт-директор...</td>\n",
              "      <td>'Искусство, развлечения, масс-медиа', 'Маркети...</td>\n",
              "      <td>Нет опыта</td>\n",
              "      <td>Полный день</td>\n",
              "      <td>Полная занятость</td>\n",
              "      <td>Москва</td>\n",
              "      <td>55000.0</td>\n",
              "      <td>80000.0</td>\n",
              "    </tr>\n",
              "  </tbody>\n",
              "</table>\n",
              "<p>1 rows × 22 columns</p>\n",
              "</div>\n",
              "    <div class=\"colab-df-buttons\">\n",
              "\n",
              "  <div class=\"colab-df-container\">\n",
              "    <button class=\"colab-df-convert\" onclick=\"convertToInteractive('df-e2e831b1-63ee-4ced-91c1-9987768b0c13')\"\n",
              "            title=\"Convert this dataframe to an interactive table.\"\n",
              "            style=\"display:none;\">\n",
              "\n",
              "  <svg xmlns=\"http://www.w3.org/2000/svg\" height=\"24px\" viewBox=\"0 -960 960 960\">\n",
              "    <path d=\"M120-120v-720h720v720H120Zm60-500h600v-160H180v160Zm220 220h160v-160H400v160Zm0 220h160v-160H400v160ZM180-400h160v-160H180v160Zm440 0h160v-160H620v160ZM180-180h160v-160H180v160Zm440 0h160v-160H620v160Z\"/>\n",
              "  </svg>\n",
              "    </button>\n",
              "\n",
              "  <style>\n",
              "    .colab-df-container {\n",
              "      display:flex;\n",
              "      gap: 12px;\n",
              "    }\n",
              "\n",
              "    .colab-df-convert {\n",
              "      background-color: #E8F0FE;\n",
              "      border: none;\n",
              "      border-radius: 50%;\n",
              "      cursor: pointer;\n",
              "      display: none;\n",
              "      fill: #1967D2;\n",
              "      height: 32px;\n",
              "      padding: 0 0 0 0;\n",
              "      width: 32px;\n",
              "    }\n",
              "\n",
              "    .colab-df-convert:hover {\n",
              "      background-color: #E2EBFA;\n",
              "      box-shadow: 0px 1px 2px rgba(60, 64, 67, 0.3), 0px 1px 3px 1px rgba(60, 64, 67, 0.15);\n",
              "      fill: #174EA6;\n",
              "    }\n",
              "\n",
              "    .colab-df-buttons div {\n",
              "      margin-bottom: 4px;\n",
              "    }\n",
              "\n",
              "    [theme=dark] .colab-df-convert {\n",
              "      background-color: #3B4455;\n",
              "      fill: #D2E3FC;\n",
              "    }\n",
              "\n",
              "    [theme=dark] .colab-df-convert:hover {\n",
              "      background-color: #434B5C;\n",
              "      box-shadow: 0px 1px 3px 1px rgba(0, 0, 0, 0.15);\n",
              "      filter: drop-shadow(0px 1px 2px rgba(0, 0, 0, 0.3));\n",
              "      fill: #FFFFFF;\n",
              "    }\n",
              "  </style>\n",
              "\n",
              "    <script>\n",
              "      const buttonEl =\n",
              "        document.querySelector('#df-e2e831b1-63ee-4ced-91c1-9987768b0c13 button.colab-df-convert');\n",
              "      buttonEl.style.display =\n",
              "        google.colab.kernel.accessAllowed ? 'block' : 'none';\n",
              "\n",
              "      async function convertToInteractive(key) {\n",
              "        const element = document.querySelector('#df-e2e831b1-63ee-4ced-91c1-9987768b0c13');\n",
              "        const dataTable =\n",
              "          await google.colab.kernel.invokeFunction('convertToInteractive',\n",
              "                                                    [key], {});\n",
              "        if (!dataTable) return;\n",
              "\n",
              "        const docLinkHtml = 'Like what you see? Visit the ' +\n",
              "          '<a target=\"_blank\" href=https://colab.research.google.com/notebooks/data_table.ipynb>data table notebook</a>'\n",
              "          + ' to learn more about interactive tables.';\n",
              "        element.innerHTML = '';\n",
              "        dataTable['output_type'] = 'display_data';\n",
              "        await google.colab.output.renderOutput(dataTable, element);\n",
              "        const docLink = document.createElement('div');\n",
              "        docLink.innerHTML = docLinkHtml;\n",
              "        element.appendChild(docLink);\n",
              "      }\n",
              "    </script>\n",
              "  </div>\n",
              "\n",
              "    </div>\n",
              "  </div>\n"
            ]
          },
          "metadata": {},
          "execution_count": 16
        }
      ]
    },
    {
      "cell_type": "code",
      "source": [
        "def preprocess_data(df: pd.DataFrame) -> pd.DataFrame:\n",
        "    df['Vac_salary_from'] = pd.to_numeric(df['Vac_salary_from'].apply(lambda x: x if x != \"Не указана\" else np.NaN))\n",
        "    df['Vac_salary_to'] = pd.to_numeric(df['Vac_salary_to'].apply(lambda x: x if x != \"Не указана\" else np.NaN))\n",
        "    return df\n",
        "\n",
        "\n",
        "def load_model(model_weights_path: str) -> CatBoostRegressor:\n",
        "    model = CatBoostRegressor()\n",
        "    model.load_model(model_weights_path)\n",
        "    return model\n",
        "\n",
        "\n",
        "def inference(df: pd.DataFrame, model_weights: str) -> float:\n",
        "    df_prep = preprocess_data(df)\n",
        "    model = load_model(model_weights)\n",
        "\n",
        "    pred = model.predict(df_prep)[0]\n",
        "    pred_clipped = np.clip(pred, 0, 1)\n",
        "    return pred_clipped.item()"
      ],
      "metadata": {
        "id": "OPSqZTr62qTf"
      },
      "execution_count": 18,
      "outputs": []
    },
    {
      "cell_type": "code",
      "source": [
        "inference(df_test_example, \"/content/drive/MyDrive/itmo/catboost_model\")"
      ],
      "metadata": {
        "colab": {
          "base_uri": "https://localhost:8080/"
        },
        "id": "0cCb6ap_3xjT",
        "outputId": "167928b5-449e-4b01-d8c1-3ddf57d83d90"
      },
      "execution_count": 20,
      "outputs": [
        {
          "output_type": "execute_result",
          "data": {
            "text/plain": [
              "0.15584883653373702"
            ]
          },
          "metadata": {},
          "execution_count": 20
        }
      ]
    },
    {
      "cell_type": "code",
      "source": [],
      "metadata": {
        "id": "JSVAxbfo3xlh"
      },
      "execution_count": null,
      "outputs": []
    },
    {
      "cell_type": "code",
      "source": [],
      "metadata": {
        "id": "Ggyg4Pk-3xnb"
      },
      "execution_count": null,
      "outputs": []
    },
    {
      "cell_type": "code",
      "source": [],
      "metadata": {
        "id": "bEZyiysp3xpW"
      },
      "execution_count": null,
      "outputs": []
    }
  ]
}